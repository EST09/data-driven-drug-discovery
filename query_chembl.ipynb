{
 "metadata": {
  "language_info": {
   "codemirror_mode": {
    "name": "ipython",
    "version": 3
   },
   "file_extension": ".py",
   "mimetype": "text/x-python",
   "name": "python",
   "nbconvert_exporter": "python",
   "pygments_lexer": "ipython3",
   "version": "3.8.3-final"
  },
  "orig_nbformat": 2,
  "kernelspec": {
   "name": "python38364bitbasee0e66f8e4cdf4b30a175922b5b25ea0e",
   "display_name": "Python 3.8.3 64-bit ('base')"
  }
 },
 "nbformat": 4,
 "nbformat_minor": 2,
 "cells": [
  {
   "source": [
    "# Querying ChEMBL\n",
    "\n",
    "This notebook uses sqlite3 and pandas to query a local copy of the ChEMBL SQLite database, loading tables into pandas DataFrames and saving the data as csv files. For each target, we query ChEMBL for molecules with a reported activity against any of the ChEMBL IDs associated with that target. We apply the following criteria:\n",
    "\n",
    "- Only measurements of Ki, Kd, IC50, or EC50 are used.\n",
    "- No data validity comments are present.\n",
    "- No 'approximate' measurements.\n",
    "- No duplicate measurements (as identified by ChEMBL).\n",
    "- High ChEMBL assay confidence score (>8).\n",
    "\n",
    "This yields a respectable quantity of data for each target, and opens up some questions to explore. For example:\n",
    "\n",
    "- Is it beneficial to use IC50/EC50 data interchangeably with Ki/Kd data (as is often the case in the literature), or is the benefit of increasing the size of the data set counteracted by the greater ambiguity in IC50/EC50 measurements?\n",
    "- For similar targets (e.g. trypsin/thrombin and estrogen receptor 1/2), how many molecules interact with both targets, and how similar are the reported affinities?\n",
    "- Is it easier to threshold the data and build a classification model to predict strong/weak binder than to build a regression model to predict binding affinity?\n",
    "- Are there any outliers in the data set (see feature computation), and how might these affect model building?"
   ],
   "cell_type": "markdown",
   "metadata": {}
  },
  {
   "source": [
    "We use the ChEMBL IDs associated with each target idenfied previously. Remember that there were no ChEMBL IDs for the target INHA."
   ],
   "cell_type": "markdown",
   "metadata": {}
  },
  {
   "cell_type": "code",
   "execution_count": 1,
   "metadata": {},
   "outputs": [],
   "source": [
    "import json\n",
    "import sqlite3\n",
    "\n",
    "import pandas as pd\n",
    "\n",
    "with open('dude_target_chembl_ids.json') as f:\n",
    "    target_chembl_ids = json.load(f)"
   ]
  },
  {
   "source": [
    "[Here](https://chembl.gitbook.io/chembl-interface-documentation/frequently-asked-questions/schema-questions-and-sql-examples) is a good place to look for SQL examples using the ChEMBL schema."
   ],
   "cell_type": "markdown",
   "metadata": {}
  },
  {
   "cell_type": "code",
   "execution_count": 2,
   "metadata": {},
   "outputs": [],
   "source": [
    "# Change this to wherever your local copy of chembl lives\n",
    "connection = sqlite3.connect(\"./chembl_27/chembl_27_sqlite/chembl_27.db\")\n",
    "\n",
    "# Query chembl for affinity data for each target, saving the resulting table as a csv file\n",
    "for target in target_chembl_ids:\n",
    "\n",
    "    # Convert our list of target ChEMBL IDs into a string to plug into the query text\n",
    "    target_string =\", \".join([f\"'{id}'\" for id in target_chembl_ids[target]])\n",
    "    \n",
    "    query = f\"\"\"\n",
    "    SELECT\n",
    "    activities.standard_value            AS standard_value,\n",
    "    activities.standard_relation         AS standard_relation,\n",
    "    activities.standard_type             AS standard_type,\n",
    "    activities.pchembl_value             AS pchembl_value,\n",
    "    molecule_hierarchy.parent_molregno   AS molregno,\n",
    "    compound_structures.canonical_smiles AS canonical_smiles,\n",
    "    molecule_dictionary.chembl_id        AS chembl_id\n",
    "    FROM activities\n",
    "    JOIN assays ON activities.assay_id = assays.assay_id\n",
    "    JOIN target_dictionary ON assays.tid = target_dictionary.tid\n",
    "    JOIN target_components ON target_dictionary.tid = target_components.tid\n",
    "    JOIN component_class ON target_components.component_id = component_class.component_id\n",
    "    JOIN protein_family_classification ON component_class.protein_class_id = protein_family_classification.protein_class_id\n",
    "    JOIN molecule_dictionary ON activities.molregno = molecule_dictionary.molregno\n",
    "    JOIN molecule_hierarchy ON molecule_dictionary.molregno = molecule_hierarchy.molregno\n",
    "    JOIN compound_structures ON molecule_hierarchy.parent_molregno = compound_structures.molregno\n",
    "    WHERE activities.standard_units = 'nM' AND\n",
    "        activities.standard_type IN ('EC50', 'IC50', 'Ki', 'Kd') AND\n",
    "        activities.data_validity_comment IS NULL AND\n",
    "        activities.standard_relation IN ('=', '<') AND\n",
    "        activities.potential_duplicate = 0 AND assays.confidence_score >= 8 AND\n",
    "        target_dictionary.chembl_id IN ({target_string}) AND\n",
    "        target_dictionary.target_type = 'SINGLE PROTEIN'\n",
    "    \"\"\"\n",
    "\n",
    "    df = pd.read_sql_query(query, connection)\n",
    "    df.set_index('chembl_id', inplace=True)\n",
    "    df.to_csv(f\"./chembl_data/{target}_extracted_chembl_data.csv\")\n",
    "\n",
    "connection.close()\n"
   ]
  },
  {
   "cell_type": "code",
   "execution_count": null,
   "metadata": {},
   "outputs": [],
   "source": []
  }
 ]
}