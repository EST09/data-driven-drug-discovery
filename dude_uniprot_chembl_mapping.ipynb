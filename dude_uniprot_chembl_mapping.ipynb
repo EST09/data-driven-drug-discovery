{
 "metadata": {
  "language_info": {
   "codemirror_mode": {
    "name": "ipython",
    "version": 3
   },
   "file_extension": ".py",
   "mimetype": "text/x-python",
   "name": "python",
   "nbconvert_exporter": "python",
   "pygments_lexer": "ipython3",
   "version": "3.8.3-final"
  },
  "orig_nbformat": 2,
  "kernelspec": {
   "name": "python38364bitbasee0e66f8e4cdf4b30a175922b5b25ea0e",
   "display_name": "Python 3.8.3 64-bit ('base')"
  }
 },
 "nbformat": 4,
 "nbformat_minor": 2,
 "cells": [
  {
   "source": [
    "# DUD-E: UniProt-ChEMBL Mapping\n",
    "\n",
    "This notebook maps the 102 DUD-E targets onto ChEMBL target entries that we can use to query ChEMBL for binding data. For now we fetch the data directly from DUD-E and ChEMBL, but we could also provide students with the files."
   ],
   "cell_type": "markdown",
   "metadata": {}
  },
  {
   "cell_type": "code",
   "execution_count": 1,
   "metadata": {},
   "outputs": [],
   "source": [
    "import json\n",
    "\n",
    "from urllib.request import urlopen\n",
    "from urllib.error import URLError"
   ]
  },
  {
   "source": [
    "DUD-E provides a list of protein UniProt IDs associated with each target. We first fetch these for each of the 102 targets."
   ],
   "cell_type": "markdown",
   "metadata": {}
  },
  {
   "cell_type": "code",
   "execution_count": 2,
   "metadata": {
    "tags": []
   },
   "outputs": [],
   "source": [
    "with open('targets.txt') as f:\n",
    "    targets = [l.strip() for l in f]\n",
    "\n",
    "target_uniprot_ids = {}\n",
    "\n",
    "for target in targets:\n",
    "    url = f'http://dude.docking.org/targets/{target}/uniprot.txt'\n",
    "    try:\n",
    "        data = urlopen(url).read().decode('utf-8')\n",
    "    except URLError as e:\n",
    "        print(e.reason)\n",
    "    else:\n",
    "        target_uniprot_ids[target] = data.strip().split('\\n')"
   ]
  },
  {
   "source": [
    "Next, we identify those UniProt IDs that correspond to a ChEMBL target entry. Fortunately, ChEMBL provides a mapping of UniProt IDs to ChEMBL IDs that we can use."
   ],
   "cell_type": "markdown",
   "metadata": {}
  },
  {
   "cell_type": "code",
   "execution_count": 3,
   "metadata": {
    "tags": []
   },
   "outputs": [],
   "source": [
    "uniprot_chembl_mapping = {}\n",
    "\n",
    "url = 'ftp://ftp.ebi.ac.uk/pub/databases/chembl/ChEMBLdb/latest/chembl_uniprot_mapping.txt'\n",
    "\n",
    "try:\n",
    "    data = urlopen(url).read().decode('utf-8')\n",
    "except URLError as e:\n",
    "    print(e.reason)\n",
    "else:\n",
    "    for line in data.split('\\n'):\n",
    "        line = line.split('\\t')\n",
    "        if line[-1] == 'SINGLE PROTEIN':\n",
    "            uniprot_chembl_mapping[line[0]] = line[1]"
   ]
  },
  {
   "source": [
    "Finally, we construct a list of target ChEMBL IDs associated with each DUD-E target."
   ],
   "cell_type": "markdown",
   "metadata": {}
  },
  {
   "cell_type": "code",
   "execution_count": 7,
   "metadata": {
    "tags": []
   },
   "outputs": [
    {
     "output_type": "stream",
     "name": "stdout",
     "text": "No ChEMBL IDs found for target inha\n"
    }
   ],
   "source": [
    "target_chembl_ids = {}\n",
    "for target in target_uniprot_ids:\n",
    "    chembl_ids = []\n",
    "    for uniprot_id in target_uniprot_ids[target]:\n",
    "        if uniprot_id in uniprot_chembl_mapping:\n",
    "            chembl_ids.append(uniprot_chembl_mapping[uniprot_id])\n",
    "    if chembl_ids:\n",
    "        target_chembl_ids[target] = chembl_ids\n",
    "    else:\n",
    "        print('No ChEMBL IDs found for target', target)\n"
   ]
  },
  {
   "source": [
    "We'll save our dictionary in .json format for use later."
   ],
   "cell_type": "markdown",
   "metadata": {}
  },
  {
   "cell_type": "code",
   "execution_count": 8,
   "metadata": {},
   "outputs": [],
   "source": [
    "with open('dude_target_chembl_ids.json', 'w') as f:\n",
    "    json.dump(target_chembl_ids, f)"
   ]
  },
  {
   "cell_type": "code",
   "execution_count": null,
   "metadata": {},
   "outputs": [],
   "source": []
  }
 ]
}