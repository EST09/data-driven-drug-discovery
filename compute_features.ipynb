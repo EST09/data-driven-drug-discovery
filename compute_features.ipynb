{
 "cells": [
  {
   "cell_type": "markdown",
   "metadata": {},
   "source": [
    "# Compute Features\n",
    "\n",
    "This notebook uses RDKit to compute 2D molecular [descriptors](https://www.rdkit.org/docs/GettingStartedInPython.html#list-of-available-descriptors) for our sets of ligands, starting from the SMILES string we obtained from ChEMBL."
   ]
  },
  {
   "cell_type": "code",
   "execution_count": 3,
   "metadata": {},
   "outputs": [],
   "source": [
    "import json\n",
    "\n",
    "import pandas as pd\n",
    "\n",
    "from tqdm import tqdm\n",
    "\n",
    "from rdkit import Chem\n",
    "from rdkit import DataStructs\n",
    "from rdkit.Chem import AllChem\n",
    "from rdkit.Chem import Descriptors\n",
    "\n",
    "# Helper function to compute descriptors for a single molecule\n",
    "def compute_descriptors(molecule):\n",
    "    descriptors = {d[0]: d[1](molecule) for d in Descriptors.descList}\n",
    "    descriptors = pd.Series(descriptors)\n",
    "    return descriptors\n",
    "\n",
    "# List the targets that have associated ChEMBL IDs\n",
    "with open('dude_target_chembl_ids.json') as f:\n",
    "    target_chembl_ids = json.load(f)\n"
   ]
  },
  {
   "cell_type": "code",
   "execution_count": 4,
   "metadata": {},
   "outputs": [
    {
     "name": "stderr",
     "output_type": "stream",
     "text": [
      "100%|██████████| 101/101 [46:48<00:00, 27.81s/it] \n"
     ]
    }
   ],
   "source": [
    "for target in tqdm(target_chembl_ids):\n",
    "    data = pd.read_csv(f'./chembl_data/{target}_extracted_chembl_data.csv', index_col=0)\n",
    "\n",
    "    # For simplicity, drop any molecules with multiple measurements. \n",
    "    # Could explore averaging experimental data, or prioritising e.g. Ki over Kd/IC50\n",
    "    data = data.loc[data.index.drop_duplicates(keep=False)]\n",
    "\n",
    "    # Create 'Molecule' objects from SMILES strings, dropping anything that RDKit can't sanitise\n",
    "    molecules = data['canonical_smiles'].apply(Chem.MolFromSmiles).dropna()\n",
    "\n",
    "    # Compute descriptors\n",
    "    descriptors = molecules.apply(compute_descriptors)\n",
    "\n",
    "    # Save named descriptors as a csv file\n",
    "    descriptors.to_csv(f'./features/{target}_ligand_descriptors.csv')"
   ]
  },
  {
   "cell_type": "code",
   "execution_count": null,
   "metadata": {},
   "outputs": [],
   "source": []
  }
 ],
 "metadata": {
  "kernelspec": {
   "display_name": "Python 3.8.3 64-bit ('base')",
   "language": "python",
   "name": "python38364bitbasee0e66f8e4cdf4b30a175922b5b25ea0e"
  },
  "language_info": {
   "codemirror_mode": {
    "name": "ipython",
    "version": 3
   },
   "file_extension": ".py",
   "mimetype": "text/x-python",
   "name": "python",
   "nbconvert_exporter": "python",
   "pygments_lexer": "ipython3",
   "version": "3.8.3"
  }
 },
 "nbformat": 4,
 "nbformat_minor": 4
}
